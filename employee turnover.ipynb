{
 "cells": [
  {
   "cell_type": "markdown",
   "metadata": {
    "_cell_guid": "07b255ad-fc2e-4669-a249-f52e3ed9102a",
    "_uuid": "917d38317a321f35eaa619996de5f0786c41798f"
   },
   "source": [
    "**Introduction**\n",
    "\n",
    "This notebook presents my analysis of an HR analytics dataset that contains features on 14,999 employees and whether they left the firm. The goal is to build a model that uses these features to predict whether a given employee has quit.  "
   ]
  },
  {
   "cell_type": "code",
   "execution_count": 51,
   "metadata": {
    "_cell_guid": "42643338-fab4-412d-984e-a400fa956cd1",
    "_uuid": "89c1beac39df00fa8be79e58efa7eadfc34e59c5"
   },
   "outputs": [],
   "source": [
    "import numpy as np #linear algebra\n",
    "import pandas as pd #data processing, CSV file I/O (e.g. pd.read_csv)\n",
    "\n",
    "#data visualization\n",
    "import seaborn as sns \n",
    "import matplotlib.pyplot as plt\n",
    "\n",
    "#machine learning techniques\n",
    "from sklearn.linear_model import LogisticRegression\n",
    "from sklearn.svm import SVC\n",
    "from sklearn.neighbors import KNeighborsClassifier\n",
    "from sklearn.naive_bayes import GaussianNB\n",
    "from sklearn.tree import DecisionTreeClassifier"
   ]
  },
  {
   "cell_type": "markdown",
   "metadata": {
    "_cell_guid": "644c5fea-7f2e-41c9-ae42-b79d60ac8768",
    "_uuid": "f49c432c60f37c2bdffee0c7cc992c74046e0ebf"
   },
   "source": [
    "**Data Prep**\n",
    "\n",
    "Now that we're set up, we must prep the data.\n",
    "\n",
    "Let's take a quick look at the data."
   ]
  },
  {
   "cell_type": "code",
   "execution_count": 52,
   "metadata": {
    "_cell_guid": "00112d72-98e1-45bd-94f8-bbe91d70c02e",
    "_uuid": "25d4935f70c8c6dbb1502af73d705f912a0dabb0"
   },
   "outputs": [
    {
     "data": {
      "text/html": [
       "<div>\n",
       "<style scoped>\n",
       "    .dataframe tbody tr th:only-of-type {\n",
       "        vertical-align: middle;\n",
       "    }\n",
       "\n",
       "    .dataframe tbody tr th {\n",
       "        vertical-align: top;\n",
       "    }\n",
       "\n",
       "    .dataframe thead th {\n",
       "        text-align: right;\n",
       "    }\n",
       "</style>\n",
       "<table border=\"1\" class=\"dataframe\">\n",
       "  <thead>\n",
       "    <tr style=\"text-align: right;\">\n",
       "      <th></th>\n",
       "      <th>satisfaction_level</th>\n",
       "      <th>last_evaluation</th>\n",
       "      <th>number_project</th>\n",
       "      <th>average_montly_hours</th>\n",
       "      <th>time_spend_company</th>\n",
       "      <th>Work_accident</th>\n",
       "      <th>left</th>\n",
       "      <th>promotion_last_5years</th>\n",
       "      <th>sales</th>\n",
       "      <th>salary</th>\n",
       "    </tr>\n",
       "  </thead>\n",
       "  <tbody>\n",
       "    <tr>\n",
       "      <th>0</th>\n",
       "      <td>0.38</td>\n",
       "      <td>0.53</td>\n",
       "      <td>2</td>\n",
       "      <td>157</td>\n",
       "      <td>3</td>\n",
       "      <td>0</td>\n",
       "      <td>1</td>\n",
       "      <td>0</td>\n",
       "      <td>sales</td>\n",
       "      <td>low</td>\n",
       "    </tr>\n",
       "    <tr>\n",
       "      <th>1</th>\n",
       "      <td>0.80</td>\n",
       "      <td>0.86</td>\n",
       "      <td>5</td>\n",
       "      <td>262</td>\n",
       "      <td>6</td>\n",
       "      <td>0</td>\n",
       "      <td>1</td>\n",
       "      <td>0</td>\n",
       "      <td>sales</td>\n",
       "      <td>medium</td>\n",
       "    </tr>\n",
       "    <tr>\n",
       "      <th>2</th>\n",
       "      <td>0.11</td>\n",
       "      <td>0.88</td>\n",
       "      <td>7</td>\n",
       "      <td>272</td>\n",
       "      <td>4</td>\n",
       "      <td>0</td>\n",
       "      <td>1</td>\n",
       "      <td>0</td>\n",
       "      <td>sales</td>\n",
       "      <td>medium</td>\n",
       "    </tr>\n",
       "    <tr>\n",
       "      <th>3</th>\n",
       "      <td>0.72</td>\n",
       "      <td>0.87</td>\n",
       "      <td>5</td>\n",
       "      <td>223</td>\n",
       "      <td>5</td>\n",
       "      <td>0</td>\n",
       "      <td>1</td>\n",
       "      <td>0</td>\n",
       "      <td>sales</td>\n",
       "      <td>low</td>\n",
       "    </tr>\n",
       "    <tr>\n",
       "      <th>4</th>\n",
       "      <td>0.37</td>\n",
       "      <td>0.52</td>\n",
       "      <td>2</td>\n",
       "      <td>159</td>\n",
       "      <td>3</td>\n",
       "      <td>0</td>\n",
       "      <td>1</td>\n",
       "      <td>0</td>\n",
       "      <td>sales</td>\n",
       "      <td>low</td>\n",
       "    </tr>\n",
       "  </tbody>\n",
       "</table>\n",
       "</div>"
      ],
      "text/plain": [
       "   satisfaction_level  last_evaluation  number_project  average_montly_hours  \\\n",
       "0                0.38             0.53               2                   157   \n",
       "1                0.80             0.86               5                   262   \n",
       "2                0.11             0.88               7                   272   \n",
       "3                0.72             0.87               5                   223   \n",
       "4                0.37             0.52               2                   159   \n",
       "\n",
       "   time_spend_company  Work_accident  left  promotion_last_5years  sales  \\\n",
       "0                   3              0     1                      0  sales   \n",
       "1                   6              0     1                      0  sales   \n",
       "2                   4              0     1                      0  sales   \n",
       "3                   5              0     1                      0  sales   \n",
       "4                   3              0     1                      0  sales   \n",
       "\n",
       "   salary  \n",
       "0     low  \n",
       "1  medium  \n",
       "2  medium  \n",
       "3     low  \n",
       "4     low  "
      ]
     },
     "execution_count": 52,
     "metadata": {},
     "output_type": "execute_result"
    }
   ],
   "source": [
    "df=pd.read_csv(r\"C:\\Users\\CHINMAYA\\Downloads\\HR_comma_sep (1).csv\")\n",
    "df.head()"
   ]
  },
  {
   "cell_type": "markdown",
   "metadata": {
    "_cell_guid": "5f23568b-12d1-4231-902a-865dd907a8c2",
    "_uuid": "28d3324eea6acfd55f2d424cd46e20a91a972642"
   },
   "source": [
    "We then check for null values and take a closer look at the columns in our data set. We have two categorical columns, sales and salary. The rest are numeric. \n",
    "\n",
    "I also changed the dataset to show average weekly hours instead of monthly, as hours by week seems a more intuitive measurement. \n",
    "\n",
    "Lastly, I renamed the \"sales\" column to \"department\" to better represent the data."
   ]
  },
  {
   "cell_type": "code",
   "execution_count": 53,
   "metadata": {
    "_cell_guid": "93cb01f7-1be8-426d-b034-79a5521827fc",
    "_uuid": "b18a45cfc6cc688c07b02a4bda88ea4bf9986f46"
   },
   "outputs": [
    {
     "name": "stdout",
     "output_type": "stream",
     "text": [
      "<class 'pandas.core.frame.DataFrame'>\n",
      "RangeIndex: 14999 entries, 0 to 14998\n",
      "Data columns (total 10 columns):\n",
      " #   Column                 Non-Null Count  Dtype  \n",
      "---  ------                 --------------  -----  \n",
      " 0   satisfaction_level     14999 non-null  float64\n",
      " 1   last_evaluation        14999 non-null  float64\n",
      " 2   number_project         14999 non-null  int64  \n",
      " 3   average_weekly_hours   14999 non-null  float64\n",
      " 4   time_spend_company     14999 non-null  int64  \n",
      " 5   Work_accident          14999 non-null  int64  \n",
      " 6   left                   14999 non-null  int64  \n",
      " 7   promotion_last_5years  14999 non-null  int64  \n",
      " 8   department             14999 non-null  object \n",
      " 9   salary                 14999 non-null  object \n",
      "dtypes: float64(3), int64(5), object(2)\n",
      "memory usage: 1.1+ MB\n"
     ]
    }
   ],
   "source": [
    "df=df.rename(columns={'average_montly_hours':'average_weekly_hours','sales':'department'})\n",
    "df['average_weekly_hours']=df['average_weekly_hours']*12/52\n",
    "df.info()"
   ]
  },
  {
   "cell_type": "markdown",
   "metadata": {
    "_cell_guid": "c0f018f1-d819-4e0d-a691-eaeef502a9e3",
    "_uuid": "42e4b24877fe76eaeb438f7b783abee9c8c22d65"
   },
   "source": [
    "The number of projects and average weekly hours worked features seem related, so I find the correlation coefficient to make sure they are not highly correlated with eachother (in that case, I would have removed a feature). However, a .4172 correlation coefficient does not seem high enough to warrant removal. "
   ]
  },
  {
   "cell_type": "code",
   "execution_count": 54,
   "metadata": {
    "_cell_guid": "171bcf83-de2b-416c-897e-9d95277d4867",
    "_uuid": "c8c74c6a81d17488ffc3d7efc1adfe1ed700796f"
   },
   "outputs": [
    {
     "name": "stdout",
     "output_type": "stream",
     "text": [
      "[[1.         0.41721063]\n",
      " [0.41721063 1.        ]]\n"
     ]
    }
   ],
   "source": [
    "print (np.corrcoef(df['number_project'], df['average_weekly_hours']))"
   ]
  },
  {
   "cell_type": "markdown",
   "metadata": {
    "_cell_guid": "1ade8dba-48fc-409c-80be-11c858ddf347",
    "_uuid": "4eb2790646cc82d63ffcf11d44c9489a52e67014"
   },
   "source": [
    "We can draw the following insights about the people in the dataset from analyzing the numeric variables:\n",
    "* they have a relatively short tenure with the firm (average of 3.5 years, max of 10 years)\n",
    "* they are generally more satisfied than not (.61 average satisfaction level)\n",
    "* they are generally above average performers (.716 average rating in their last evaluation)\n",
    "* 14.46% (approximately 1 in 7) of the people have had work accidents\n",
    "\n",
    "One caveat- it's a bit hard to define relative satisfaction level and rating because we don't have a basis for comparison. For all we know, a .71 rating could just as likely correspond to a \"bad\" employee; maybe employers don't usually rate below that number. \n",
    " "
   ]
  },
  {
   "cell_type": "code",
   "execution_count": 55,
   "metadata": {
    "_cell_guid": "d5a9ba5d-f42a-4889-b84a-708954040fef",
    "_uuid": "646dfe74ae26c415ad76deee28fbbf2b26ff7faf"
   },
   "outputs": [
    {
     "data": {
      "text/html": [
       "<div>\n",
       "<style scoped>\n",
       "    .dataframe tbody tr th:only-of-type {\n",
       "        vertical-align: middle;\n",
       "    }\n",
       "\n",
       "    .dataframe tbody tr th {\n",
       "        vertical-align: top;\n",
       "    }\n",
       "\n",
       "    .dataframe thead th {\n",
       "        text-align: right;\n",
       "    }\n",
       "</style>\n",
       "<table border=\"1\" class=\"dataframe\">\n",
       "  <thead>\n",
       "    <tr style=\"text-align: right;\">\n",
       "      <th></th>\n",
       "      <th>satisfaction_level</th>\n",
       "      <th>last_evaluation</th>\n",
       "      <th>number_project</th>\n",
       "      <th>average_weekly_hours</th>\n",
       "      <th>time_spend_company</th>\n",
       "      <th>Work_accident</th>\n",
       "      <th>left</th>\n",
       "      <th>promotion_last_5years</th>\n",
       "    </tr>\n",
       "  </thead>\n",
       "  <tbody>\n",
       "    <tr>\n",
       "      <th>count</th>\n",
       "      <td>14999.000000</td>\n",
       "      <td>14999.000000</td>\n",
       "      <td>14999.000000</td>\n",
       "      <td>14999.000000</td>\n",
       "      <td>14999.000000</td>\n",
       "      <td>14999.000000</td>\n",
       "      <td>14999.000000</td>\n",
       "      <td>14999.000000</td>\n",
       "    </tr>\n",
       "    <tr>\n",
       "      <th>mean</th>\n",
       "      <td>0.612834</td>\n",
       "      <td>0.716102</td>\n",
       "      <td>3.803054</td>\n",
       "      <td>46.396232</td>\n",
       "      <td>3.498233</td>\n",
       "      <td>0.144610</td>\n",
       "      <td>0.238083</td>\n",
       "      <td>0.021268</td>\n",
       "    </tr>\n",
       "    <tr>\n",
       "      <th>std</th>\n",
       "      <td>0.248631</td>\n",
       "      <td>0.171169</td>\n",
       "      <td>1.232592</td>\n",
       "      <td>11.525331</td>\n",
       "      <td>1.460136</td>\n",
       "      <td>0.351719</td>\n",
       "      <td>0.425924</td>\n",
       "      <td>0.144281</td>\n",
       "    </tr>\n",
       "    <tr>\n",
       "      <th>min</th>\n",
       "      <td>0.090000</td>\n",
       "      <td>0.360000</td>\n",
       "      <td>2.000000</td>\n",
       "      <td>22.153846</td>\n",
       "      <td>2.000000</td>\n",
       "      <td>0.000000</td>\n",
       "      <td>0.000000</td>\n",
       "      <td>0.000000</td>\n",
       "    </tr>\n",
       "    <tr>\n",
       "      <th>25%</th>\n",
       "      <td>0.440000</td>\n",
       "      <td>0.560000</td>\n",
       "      <td>3.000000</td>\n",
       "      <td>36.000000</td>\n",
       "      <td>3.000000</td>\n",
       "      <td>0.000000</td>\n",
       "      <td>0.000000</td>\n",
       "      <td>0.000000</td>\n",
       "    </tr>\n",
       "    <tr>\n",
       "      <th>50%</th>\n",
       "      <td>0.640000</td>\n",
       "      <td>0.720000</td>\n",
       "      <td>4.000000</td>\n",
       "      <td>46.153846</td>\n",
       "      <td>3.000000</td>\n",
       "      <td>0.000000</td>\n",
       "      <td>0.000000</td>\n",
       "      <td>0.000000</td>\n",
       "    </tr>\n",
       "    <tr>\n",
       "      <th>75%</th>\n",
       "      <td>0.820000</td>\n",
       "      <td>0.870000</td>\n",
       "      <td>5.000000</td>\n",
       "      <td>56.538462</td>\n",
       "      <td>4.000000</td>\n",
       "      <td>0.000000</td>\n",
       "      <td>0.000000</td>\n",
       "      <td>0.000000</td>\n",
       "    </tr>\n",
       "    <tr>\n",
       "      <th>max</th>\n",
       "      <td>1.000000</td>\n",
       "      <td>1.000000</td>\n",
       "      <td>7.000000</td>\n",
       "      <td>71.538462</td>\n",
       "      <td>10.000000</td>\n",
       "      <td>1.000000</td>\n",
       "      <td>1.000000</td>\n",
       "      <td>1.000000</td>\n",
       "    </tr>\n",
       "  </tbody>\n",
       "</table>\n",
       "</div>"
      ],
      "text/plain": [
       "       satisfaction_level  last_evaluation  number_project  \\\n",
       "count        14999.000000     14999.000000    14999.000000   \n",
       "mean             0.612834         0.716102        3.803054   \n",
       "std              0.248631         0.171169        1.232592   \n",
       "min              0.090000         0.360000        2.000000   \n",
       "25%              0.440000         0.560000        3.000000   \n",
       "50%              0.640000         0.720000        4.000000   \n",
       "75%              0.820000         0.870000        5.000000   \n",
       "max              1.000000         1.000000        7.000000   \n",
       "\n",
       "       average_weekly_hours  time_spend_company  Work_accident          left  \\\n",
       "count          14999.000000        14999.000000   14999.000000  14999.000000   \n",
       "mean              46.396232            3.498233       0.144610      0.238083   \n",
       "std               11.525331            1.460136       0.351719      0.425924   \n",
       "min               22.153846            2.000000       0.000000      0.000000   \n",
       "25%               36.000000            3.000000       0.000000      0.000000   \n",
       "50%               46.153846            3.000000       0.000000      0.000000   \n",
       "75%               56.538462            4.000000       0.000000      0.000000   \n",
       "max               71.538462           10.000000       1.000000      1.000000   \n",
       "\n",
       "       promotion_last_5years  \n",
       "count           14999.000000  \n",
       "mean                0.021268  \n",
       "std                 0.144281  \n",
       "min                 0.000000  \n",
       "25%                 0.000000  \n",
       "50%                 0.000000  \n",
       "75%                 0.000000  \n",
       "max                 1.000000  "
      ]
     },
     "execution_count": 55,
     "metadata": {},
     "output_type": "execute_result"
    }
   ],
   "source": [
    "df.describe()"
   ]
  },
  {
   "cell_type": "markdown",
   "metadata": {
    "_cell_guid": "9c44161f-43d2-4527-8c2d-52d35a6b3aad",
    "_uuid": "6093bf85ed230c7e1830a71df81345dc8878f616"
   },
   "source": [
    "Not too much to glean when we describe the categorical variables, besides that there are 10 departments and 3 salary bands."
   ]
  },
  {
   "cell_type": "code",
   "execution_count": 56,
   "metadata": {
    "_cell_guid": "4689717c-e118-401d-aaa9-753d618d6b1f",
    "_uuid": "01b098d048ed36ac0765db6b5e2aab0a58060781"
   },
   "outputs": [
    {
     "data": {
      "text/html": [
       "<div>\n",
       "<style scoped>\n",
       "    .dataframe tbody tr th:only-of-type {\n",
       "        vertical-align: middle;\n",
       "    }\n",
       "\n",
       "    .dataframe tbody tr th {\n",
       "        vertical-align: top;\n",
       "    }\n",
       "\n",
       "    .dataframe thead th {\n",
       "        text-align: right;\n",
       "    }\n",
       "</style>\n",
       "<table border=\"1\" class=\"dataframe\">\n",
       "  <thead>\n",
       "    <tr style=\"text-align: right;\">\n",
       "      <th></th>\n",
       "      <th>department</th>\n",
       "      <th>salary</th>\n",
       "    </tr>\n",
       "  </thead>\n",
       "  <tbody>\n",
       "    <tr>\n",
       "      <th>count</th>\n",
       "      <td>14999</td>\n",
       "      <td>14999</td>\n",
       "    </tr>\n",
       "    <tr>\n",
       "      <th>unique</th>\n",
       "      <td>10</td>\n",
       "      <td>3</td>\n",
       "    </tr>\n",
       "    <tr>\n",
       "      <th>top</th>\n",
       "      <td>sales</td>\n",
       "      <td>low</td>\n",
       "    </tr>\n",
       "    <tr>\n",
       "      <th>freq</th>\n",
       "      <td>4140</td>\n",
       "      <td>7316</td>\n",
       "    </tr>\n",
       "  </tbody>\n",
       "</table>\n",
       "</div>"
      ],
      "text/plain": [
       "       department salary\n",
       "count       14999  14999\n",
       "unique         10      3\n",
       "top         sales    low\n",
       "freq         4140   7316"
      ]
     },
     "execution_count": 56,
     "metadata": {},
     "output_type": "execute_result"
    }
   ],
   "source": [
    "df.describe(include=['O'])"
   ]
  },
  {
   "cell_type": "markdown",
   "metadata": {
    "_cell_guid": "dd8882cd-3110-40e8-a4a2-1a5525a2f59b",
    "_uuid": "8c951662fcab24b7b665320e480f1ca91e31e17b"
   },
   "source": [
    "**Feature Selection**\n",
    "\n",
    "We are now ready to analyze which features would be good predictors for employees leaving. A quick way to do this is by \"pivoting\" pairs of features, as below. Pivoting shows the average rate of leaving per band of categorical variable. Note that I analyzed the number of projects worked feature and the time spent in the firm feature here, even though both are technically numerical variables. This is because these variables contain only a few discrete values. \n",
    "\n",
    "Observations:\n",
    "\n",
    "* having an accident at work does not necessarily correlate strongly with leaving the firm (8% of those who had accidents left while 26% of those who did not have accidents left)\n",
    "* R&D and management depts seem to experience the least turnover, while the other departments have similar turnover rates\n",
    "* Salary seems inversely correlated with how likely someone will leave\n",
    "* People tend to leave when they're on a few projects or many projects. This clustering effect is seen later in a few of the other numeric variables as well.\n",
    "* Workers are more likely to leave once they've spent a few years at the firm, but after 7 years everyone has stayed\n",
    "\n",
    "Conclusions:\n",
    "\n",
    "* We should not consider the Work_accident feature in our model\n",
    "* The department feature does not seem that useful, given the similar rates between departments. However, we can leave it in for now\n",
    "* We should consider salary in our model\n",
    "* Include the number of projects feature, but consider turning it into a binary variable: \"Normal\" (between 3 and 5 projects, since the mean number of projects is 3.8) versus not\n",
    "* Include the years at the firm feature, but band years 7 and onward\n"
   ]
  },
  {
   "cell_type": "code",
   "execution_count": 57,
   "metadata": {
    "_cell_guid": "b25224f5-8a2d-4da4-b380-13dfa5d0a560",
    "_uuid": "f40d2f2a2be6bf596010f411a1c4ee7d26e5c8e8"
   },
   "outputs": [
    {
     "data": {
      "text/html": [
       "<div>\n",
       "<style scoped>\n",
       "    .dataframe tbody tr th:only-of-type {\n",
       "        vertical-align: middle;\n",
       "    }\n",
       "\n",
       "    .dataframe tbody tr th {\n",
       "        vertical-align: top;\n",
       "    }\n",
       "\n",
       "    .dataframe thead th {\n",
       "        text-align: right;\n",
       "    }\n",
       "</style>\n",
       "<table border=\"1\" class=\"dataframe\">\n",
       "  <thead>\n",
       "    <tr style=\"text-align: right;\">\n",
       "      <th></th>\n",
       "      <th>Work_accident</th>\n",
       "      <th>left</th>\n",
       "    </tr>\n",
       "  </thead>\n",
       "  <tbody>\n",
       "    <tr>\n",
       "      <th>1</th>\n",
       "      <td>1</td>\n",
       "      <td>0.077916</td>\n",
       "    </tr>\n",
       "    <tr>\n",
       "      <th>0</th>\n",
       "      <td>0</td>\n",
       "      <td>0.265160</td>\n",
       "    </tr>\n",
       "  </tbody>\n",
       "</table>\n",
       "</div>"
      ],
      "text/plain": [
       "   Work_accident      left\n",
       "1              1  0.077916\n",
       "0              0  0.265160"
      ]
     },
     "execution_count": 57,
     "metadata": {},
     "output_type": "execute_result"
    }
   ],
   "source": [
    "df[['Work_accident', 'left']].groupby(['Work_accident'], as_index=False).mean().sort_values(by='left')"
   ]
  },
  {
   "cell_type": "code",
   "execution_count": 58,
   "metadata": {
    "_cell_guid": "4051389b-9d77-432b-94e9-ee46c4ce2763",
    "_uuid": "030a161fbbc0f47ff9cab2c75c3ef5d00c218326"
   },
   "outputs": [
    {
     "data": {
      "text/html": [
       "<div>\n",
       "<style scoped>\n",
       "    .dataframe tbody tr th:only-of-type {\n",
       "        vertical-align: middle;\n",
       "    }\n",
       "\n",
       "    .dataframe tbody tr th {\n",
       "        vertical-align: top;\n",
       "    }\n",
       "\n",
       "    .dataframe thead th {\n",
       "        text-align: right;\n",
       "    }\n",
       "</style>\n",
       "<table border=\"1\" class=\"dataframe\">\n",
       "  <thead>\n",
       "    <tr style=\"text-align: right;\">\n",
       "      <th></th>\n",
       "      <th>department</th>\n",
       "      <th>left</th>\n",
       "    </tr>\n",
       "  </thead>\n",
       "  <tbody>\n",
       "    <tr>\n",
       "      <th>3</th>\n",
       "      <td>hr</td>\n",
       "      <td>0.290934</td>\n",
       "    </tr>\n",
       "    <tr>\n",
       "      <th>2</th>\n",
       "      <td>accounting</td>\n",
       "      <td>0.265971</td>\n",
       "    </tr>\n",
       "    <tr>\n",
       "      <th>9</th>\n",
       "      <td>technical</td>\n",
       "      <td>0.256250</td>\n",
       "    </tr>\n",
       "    <tr>\n",
       "      <th>8</th>\n",
       "      <td>support</td>\n",
       "      <td>0.248991</td>\n",
       "    </tr>\n",
       "    <tr>\n",
       "      <th>7</th>\n",
       "      <td>sales</td>\n",
       "      <td>0.244928</td>\n",
       "    </tr>\n",
       "    <tr>\n",
       "      <th>5</th>\n",
       "      <td>marketing</td>\n",
       "      <td>0.236597</td>\n",
       "    </tr>\n",
       "    <tr>\n",
       "      <th>0</th>\n",
       "      <td>IT</td>\n",
       "      <td>0.222494</td>\n",
       "    </tr>\n",
       "    <tr>\n",
       "      <th>6</th>\n",
       "      <td>product_mng</td>\n",
       "      <td>0.219512</td>\n",
       "    </tr>\n",
       "    <tr>\n",
       "      <th>1</th>\n",
       "      <td>RandD</td>\n",
       "      <td>0.153748</td>\n",
       "    </tr>\n",
       "    <tr>\n",
       "      <th>4</th>\n",
       "      <td>management</td>\n",
       "      <td>0.144444</td>\n",
       "    </tr>\n",
       "  </tbody>\n",
       "</table>\n",
       "</div>"
      ],
      "text/plain": [
       "    department      left\n",
       "3           hr  0.290934\n",
       "2   accounting  0.265971\n",
       "9    technical  0.256250\n",
       "8      support  0.248991\n",
       "7        sales  0.244928\n",
       "5    marketing  0.236597\n",
       "0           IT  0.222494\n",
       "6  product_mng  0.219512\n",
       "1        RandD  0.153748\n",
       "4   management  0.144444"
      ]
     },
     "execution_count": 58,
     "metadata": {},
     "output_type": "execute_result"
    }
   ],
   "source": [
    "df[['department', 'left']].groupby(['department'], as_index=False).mean().sort_values(by='left', ascending=False)"
   ]
  },
  {
   "cell_type": "code",
   "execution_count": 59,
   "metadata": {
    "_cell_guid": "2d572296-0654-41d7-9ee1-cd85f5f07b0a",
    "_uuid": "585ef7f1b7c966c59067a6c7880ab9ce93f2021e"
   },
   "outputs": [
    {
     "data": {
      "text/html": [
       "<div>\n",
       "<style scoped>\n",
       "    .dataframe tbody tr th:only-of-type {\n",
       "        vertical-align: middle;\n",
       "    }\n",
       "\n",
       "    .dataframe tbody tr th {\n",
       "        vertical-align: top;\n",
       "    }\n",
       "\n",
       "    .dataframe thead th {\n",
       "        text-align: right;\n",
       "    }\n",
       "</style>\n",
       "<table border=\"1\" class=\"dataframe\">\n",
       "  <thead>\n",
       "    <tr style=\"text-align: right;\">\n",
       "      <th></th>\n",
       "      <th>salary</th>\n",
       "      <th>left</th>\n",
       "    </tr>\n",
       "  </thead>\n",
       "  <tbody>\n",
       "    <tr>\n",
       "      <th>1</th>\n",
       "      <td>low</td>\n",
       "      <td>0.296884</td>\n",
       "    </tr>\n",
       "    <tr>\n",
       "      <th>2</th>\n",
       "      <td>medium</td>\n",
       "      <td>0.204313</td>\n",
       "    </tr>\n",
       "    <tr>\n",
       "      <th>0</th>\n",
       "      <td>high</td>\n",
       "      <td>0.066289</td>\n",
       "    </tr>\n",
       "  </tbody>\n",
       "</table>\n",
       "</div>"
      ],
      "text/plain": [
       "   salary      left\n",
       "1     low  0.296884\n",
       "2  medium  0.204313\n",
       "0    high  0.066289"
      ]
     },
     "execution_count": 59,
     "metadata": {},
     "output_type": "execute_result"
    }
   ],
   "source": [
    "df[['salary', 'left']].groupby(['salary'], as_index=False).mean().sort_values(by='left', ascending=False)"
   ]
  },
  {
   "cell_type": "code",
   "execution_count": 60,
   "metadata": {
    "_cell_guid": "643542fe-de19-43ce-b99c-baabfc96dc11",
    "_uuid": "ad25ea16e9164b1c75b6f9275fa899f0decf7c1f"
   },
   "outputs": [
    {
     "data": {
      "text/html": [
       "<div>\n",
       "<style scoped>\n",
       "    .dataframe tbody tr th:only-of-type {\n",
       "        vertical-align: middle;\n",
       "    }\n",
       "\n",
       "    .dataframe tbody tr th {\n",
       "        vertical-align: top;\n",
       "    }\n",
       "\n",
       "    .dataframe thead th {\n",
       "        text-align: right;\n",
       "    }\n",
       "</style>\n",
       "<table border=\"1\" class=\"dataframe\">\n",
       "  <thead>\n",
       "    <tr style=\"text-align: right;\">\n",
       "      <th></th>\n",
       "      <th>number_project</th>\n",
       "      <th>left</th>\n",
       "    </tr>\n",
       "  </thead>\n",
       "  <tbody>\n",
       "    <tr>\n",
       "      <th>0</th>\n",
       "      <td>2</td>\n",
       "      <td>0.656198</td>\n",
       "    </tr>\n",
       "    <tr>\n",
       "      <th>1</th>\n",
       "      <td>3</td>\n",
       "      <td>0.017756</td>\n",
       "    </tr>\n",
       "    <tr>\n",
       "      <th>2</th>\n",
       "      <td>4</td>\n",
       "      <td>0.093700</td>\n",
       "    </tr>\n",
       "    <tr>\n",
       "      <th>3</th>\n",
       "      <td>5</td>\n",
       "      <td>0.221659</td>\n",
       "    </tr>\n",
       "    <tr>\n",
       "      <th>4</th>\n",
       "      <td>6</td>\n",
       "      <td>0.557922</td>\n",
       "    </tr>\n",
       "    <tr>\n",
       "      <th>5</th>\n",
       "      <td>7</td>\n",
       "      <td>1.000000</td>\n",
       "    </tr>\n",
       "  </tbody>\n",
       "</table>\n",
       "</div>"
      ],
      "text/plain": [
       "   number_project      left\n",
       "0               2  0.656198\n",
       "1               3  0.017756\n",
       "2               4  0.093700\n",
       "3               5  0.221659\n",
       "4               6  0.557922\n",
       "5               7  1.000000"
      ]
     },
     "execution_count": 60,
     "metadata": {},
     "output_type": "execute_result"
    }
   ],
   "source": [
    "df[['number_project', 'left']].groupby(['number_project'], as_index=False).mean().sort_values(by='number_project')"
   ]
  },
  {
   "cell_type": "code",
   "execution_count": 61,
   "metadata": {
    "_cell_guid": "c2fc955f-f026-48fe-94d9-27dfc2992567",
    "_uuid": "fb88b29064e0f20736f77e1416f3cc20fab50272"
   },
   "outputs": [
    {
     "data": {
      "text/html": [
       "<div>\n",
       "<style scoped>\n",
       "    .dataframe tbody tr th:only-of-type {\n",
       "        vertical-align: middle;\n",
       "    }\n",
       "\n",
       "    .dataframe tbody tr th {\n",
       "        vertical-align: top;\n",
       "    }\n",
       "\n",
       "    .dataframe thead th {\n",
       "        text-align: right;\n",
       "    }\n",
       "</style>\n",
       "<table border=\"1\" class=\"dataframe\">\n",
       "  <thead>\n",
       "    <tr style=\"text-align: right;\">\n",
       "      <th></th>\n",
       "      <th>time_spend_company</th>\n",
       "      <th>left</th>\n",
       "    </tr>\n",
       "  </thead>\n",
       "  <tbody>\n",
       "    <tr>\n",
       "      <th>0</th>\n",
       "      <td>2</td>\n",
       "      <td>0.016338</td>\n",
       "    </tr>\n",
       "    <tr>\n",
       "      <th>1</th>\n",
       "      <td>3</td>\n",
       "      <td>0.246159</td>\n",
       "    </tr>\n",
       "    <tr>\n",
       "      <th>2</th>\n",
       "      <td>4</td>\n",
       "      <td>0.348064</td>\n",
       "    </tr>\n",
       "    <tr>\n",
       "      <th>3</th>\n",
       "      <td>5</td>\n",
       "      <td>0.565513</td>\n",
       "    </tr>\n",
       "    <tr>\n",
       "      <th>4</th>\n",
       "      <td>6</td>\n",
       "      <td>0.291086</td>\n",
       "    </tr>\n",
       "    <tr>\n",
       "      <th>5</th>\n",
       "      <td>7</td>\n",
       "      <td>0.000000</td>\n",
       "    </tr>\n",
       "    <tr>\n",
       "      <th>6</th>\n",
       "      <td>8</td>\n",
       "      <td>0.000000</td>\n",
       "    </tr>\n",
       "    <tr>\n",
       "      <th>7</th>\n",
       "      <td>10</td>\n",
       "      <td>0.000000</td>\n",
       "    </tr>\n",
       "  </tbody>\n",
       "</table>\n",
       "</div>"
      ],
      "text/plain": [
       "   time_spend_company      left\n",
       "0                   2  0.016338\n",
       "1                   3  0.246159\n",
       "2                   4  0.348064\n",
       "3                   5  0.565513\n",
       "4                   6  0.291086\n",
       "5                   7  0.000000\n",
       "6                   8  0.000000\n",
       "7                  10  0.000000"
      ]
     },
     "execution_count": 61,
     "metadata": {},
     "output_type": "execute_result"
    }
   ],
   "source": [
    "df[['time_spend_company', 'left']].groupby(['time_spend_company'], as_index=False).mean().sort_values(by='time_spend_company')"
   ]
  },
  {
   "cell_type": "markdown",
   "metadata": {
    "_cell_guid": "a1d89d92-6391-4312-94fe-02175ee39ee0",
    "_uuid": "e5911c06ea3e27523c48895c68ceca8634a8fcbb"
   },
   "source": [
    "To aid with selecting numeric features, I use scatterplots.\n",
    "\n",
    "Note that I calculate the \"leave_rate\" by for each instance of the numerical features by dividing the number of employees that left by the total.\n",
    "\n",
    "Observations:\n",
    "* We observe that lower satisfaction levels are associated with higher levels of turnover, as expected\n",
    "* Regarding evaluation scores, it's interesting to note the two \"clusters\" that form; the people who leave tend to either have received low scores (.6 and below) or very high scores (.8 and above). Employees scoring in the middle rarely left. \n",
    "* A similar clustering effect is shown for the weekly hours graph as well. People tend to leave when they are overworked or underworked. We also observe that the pattern we see for the weekly hours feature is similar to that of the number of projects feature. \n",
    "\n",
    "Conclusions:\n",
    "* Use the satisfaction_level feature in our model\n",
    "* We may need to do some data wrangling on the last_evaluation feature. Consider creating two bands, exceptional scores (both really good and really bad evaluations) vs. the rest. \n",
    "* Given that both the weekly hours feature and number of projects feature exhibit a comparable clustering effect and that there is a moderate correlation between these variables (.417, as calculated earlier), I will only use the number of projects feature in my model and discard the weekly hours feature for simplicity."
   ]
  },
  {
   "cell_type": "code",
   "execution_count": 62,
   "metadata": {
    "_cell_guid": "e0ba4651-d8f0-45a5-a4ba-b9b4786a5396",
    "_uuid": "2588e8fa4fbd8a1e017819a047030a5f7ce227da"
   },
   "outputs": [
    {
     "data": {
      "image/png": "[encoded data removed]",
      "text/plain": [
       "<Figure size 500x500 with 1 Axes>"
      ]
     },
     "metadata": {},
     "output_type": "display_data"
    }
   ],
   "source": [
    "leave_sat=df.groupby('satisfaction_level').agg({'left': lambda x: len(x[x==1])})\n",
    "leave_sat['total']=df.groupby('satisfaction_level').agg({'left': len})\n",
    "leave_sat['leave_rate']=leave_sat['left']/leave_sat['total']\n",
    "leave_sat['satisfaction']=df.groupby('satisfaction_level').agg({'satisfaction_level': 'mean'})\n",
    "g = sns.lmplot(x='satisfaction', y='leave_rate', data=leave_sat.reset_index())"
   ]
  },
  {
   "cell_type": "code",
   "execution_count": 63,
   "metadata": {
    "_cell_guid": "c417cd49-c166-4104-8b23-dea9b28e371a",
    "_uuid": "c06e78e5f7b77f4cc8634f461ce0200da968520b"
   },
   "outputs": [
    {
     "data": {
      "image/png": "[encoded data removed]",
      "text/plain": [
       "<Figure size 500x500 with 1 Axes>"
      ]
     },
     "metadata": {},
     "output_type": "display_data"
    }
   ],
   "source": [
    "leave_eval=df.groupby('last_evaluation').agg({'left': lambda x: len(x[x==1])})\n",
    "leave_eval['total']=df.groupby('last_evaluation').agg({'left': len})\n",
    "leave_eval['leave_rate']=leave_eval['left']/leave_eval['total']\n",
    "leave_eval['evaluation']=df.groupby('last_evaluation').agg({'last_evaluation': 'mean'})\n",
    "gr = sns.lmplot(x='evaluation', y='leave_rate', data=leave_eval.reset_index(), fit_reg=False)"
   ]
  },
  {
   "cell_type": "code",
   "execution_count": 64,
   "metadata": {
    "_cell_guid": "da80540e-05c2-424f-90ab-ce1378536152",
    "_uuid": "50bd0044231053a2ff99ccc4a055dd080e3fa4e3"
   },
   "outputs": [
    {
     "data": {
      "image/png": "[encoded data removed]",
      "text/plain": [
       "<Figure size 500x500 with 1 Axes>"
      ]
     },
     "metadata": {},
     "output_type": "display_data"
    }
   ],
   "source": [
    "leave_hours=df.groupby('average_weekly_hours').agg({'left': lambda x: len(x[x==1])})\n",
    "leave_hours['total']=df.groupby('average_weekly_hours').agg({'left': len})\n",
    "leave_hours['leave_rate']=leave_hours['left']/leave_hours['total']\n",
    "leave_hours['weekly_hours']=df.groupby('average_weekly_hours').agg({'average_weekly_hours': 'mean'})\n",
    "grid=sns.lmplot( x='weekly_hours', y='leave_rate',data=leave_hours.reset_index(),fit_reg=False)"
   ]
  },
  {
   "cell_type": "markdown",
   "metadata": {
    "_cell_guid": "47a4daae-e22e-4d98-9dca-7eb32bbe9628",
    "_uuid": "ffa3250380e139dfcff150c56755c1a2692d1bbe"
   },
   "source": [
    "I revisit the department feature, as I think there's something more to it. In an effort to find a distinguishing element between each department, I test the relationship between an employee's department and the amount of work they do per week. My hypothesis is that some departments might work their employees harder than others, which then affects a worker's likelihood of leaving.\n",
    "\n",
    "Observations:\n",
    "\n",
    "* There are very minimal differences in the weekly hours worked across departments\n",
    "\n",
    "Conclusions:\n",
    "\n",
    "* The department feature does not seem very useful; we will not include this in our model"
   ]
  },
  {
   "cell_type": "code",
   "execution_count": 65,
   "metadata": {
    "_cell_guid": "2fc8957c-17f5-4661-935a-a1ca4fc6ee70",
    "_uuid": "f8497afa54f001088409993806fb2e48448981c3"
   },
   "outputs": [
    {
     "data": {
      "text/html": [
       "<div>\n",
       "<style scoped>\n",
       "    .dataframe tbody tr th:only-of-type {\n",
       "        vertical-align: middle;\n",
       "    }\n",
       "\n",
       "    .dataframe tbody tr th {\n",
       "        vertical-align: top;\n",
       "    }\n",
       "\n",
       "    .dataframe thead th {\n",
       "        text-align: right;\n",
       "    }\n",
       "</style>\n",
       "<table border=\"1\" class=\"dataframe\">\n",
       "  <thead>\n",
       "    <tr style=\"text-align: right;\">\n",
       "      <th></th>\n",
       "      <th>department</th>\n",
       "      <th>average_weekly_hours</th>\n",
       "    </tr>\n",
       "  </thead>\n",
       "  <tbody>\n",
       "    <tr>\n",
       "      <th>9</th>\n",
       "      <td>technical</td>\n",
       "      <td>46.730175</td>\n",
       "    </tr>\n",
       "    <tr>\n",
       "      <th>0</th>\n",
       "      <td>IT</td>\n",
       "      <td>46.665225</td>\n",
       "    </tr>\n",
       "    <tr>\n",
       "      <th>4</th>\n",
       "      <td>management</td>\n",
       "      <td>46.442125</td>\n",
       "    </tr>\n",
       "    <tr>\n",
       "      <th>2</th>\n",
       "      <td>accounting</td>\n",
       "      <td>46.422224</td>\n",
       "    </tr>\n",
       "    <tr>\n",
       "      <th>7</th>\n",
       "      <td>sales</td>\n",
       "      <td>46.364158</td>\n",
       "    </tr>\n",
       "    <tr>\n",
       "      <th>1</th>\n",
       "      <td>RandD</td>\n",
       "      <td>46.338579</td>\n",
       "    </tr>\n",
       "    <tr>\n",
       "      <th>8</th>\n",
       "      <td>support</td>\n",
       "      <td>46.328813</td>\n",
       "    </tr>\n",
       "    <tr>\n",
       "      <th>6</th>\n",
       "      <td>product_mng</td>\n",
       "      <td>46.145915</td>\n",
       "    </tr>\n",
       "    <tr>\n",
       "      <th>5</th>\n",
       "      <td>marketing</td>\n",
       "      <td>46.012103</td>\n",
       "    </tr>\n",
       "    <tr>\n",
       "      <th>3</th>\n",
       "      <td>hr</td>\n",
       "      <td>45.850317</td>\n",
       "    </tr>\n",
       "  </tbody>\n",
       "</table>\n",
       "</div>"
      ],
      "text/plain": [
       "    department  average_weekly_hours\n",
       "9    technical             46.730175\n",
       "0           IT             46.665225\n",
       "4   management             46.442125\n",
       "2   accounting             46.422224\n",
       "7        sales             46.364158\n",
       "1        RandD             46.338579\n",
       "8      support             46.328813\n",
       "6  product_mng             46.145915\n",
       "5    marketing             46.012103\n",
       "3           hr             45.850317"
      ]
     },
     "execution_count": 65,
     "metadata": {},
     "output_type": "execute_result"
    }
   ],
   "source": [
    "df[['department', 'average_weekly_hours']].groupby(['department'], as_index=False).mean().sort_values(by='average_weekly_hours', ascending=False)"
   ]
  },
  {
   "cell_type": "markdown",
   "metadata": {
    "_cell_guid": "a33f348a-7a99-4191-859b-f9c62f10d2f6",
    "_uuid": "81eefef75ed90578e5831496c9ecbdffa5c05240"
   },
   "source": [
    "Note that I chose not to analyze the promotions feature because only 319 employees out of 14,999 were promoted. This percentage is too small for the feature to be a meaningful predictor. "
   ]
  },
  {
   "cell_type": "code",
   "execution_count": 66,
   "metadata": {
    "_cell_guid": "96ce976e-b583-439d-8503-b10ebdafa8e0",
    "_uuid": "0da802f65e0fd0ee65c3d921f5c0f4c505a6a776"
   },
   "outputs": [],
   "source": [
    "(df.promotion_last_5years==1).sum()\n",
    "df=df.drop(['promotion_last_5years'],axis=1)"
   ]
  },
  {
   "cell_type": "markdown",
   "metadata": {
    "_cell_guid": "cdebb62c-6521-4ab9-874c-5aef4afd759e",
    "_uuid": "dde097d702d18c851ab14ee40fe59b84cd185fd6"
   },
   "source": [
    "**Data Wrangling **\n",
    "\n",
    "Now we perform the feature deletion and banding as specified earlier. To summarize:\n",
    "\n",
    "* we drop the work_accident, department, and average_weekly_hours features\n",
    "* we band the number_project, time_spend_company (years at the firm), and last_evaluation features"
   ]
  },
  {
   "cell_type": "code",
   "execution_count": 67,
   "metadata": {
    "_cell_guid": "d0b408c8-7d0a-4568-a0b5-71d317012217",
    "_uuid": "79502a6ce9cea7a71d148683b5abe1c21bbb208c"
   },
   "outputs": [
    {
     "data": {
      "text/plain": [
       "Index(['satisfaction_level', 'last_evaluation', 'number_project',\n",
       "       'time_spend_company', 'left', 'salary'],\n",
       "      dtype='object')"
      ]
     },
     "execution_count": 67,
     "metadata": {},
     "output_type": "execute_result"
    }
   ],
   "source": [
    "df=df.drop(['Work_accident','department','average_weekly_hours'],axis=1)\n",
    "df.columns"
   ]
  },
  {
   "cell_type": "code",
   "execution_count": 68,
   "metadata": {
    "_cell_guid": "5f787ac3-9096-4b51-b9ba-750a4bf3fbe7",
    "_uuid": "5fd58aeb1aff535fdcd9e45c4156183f17087d74"
   },
   "outputs": [
    {
     "data": {
      "text/html": [
       "<div>\n",
       "<style scoped>\n",
       "    .dataframe tbody tr th:only-of-type {\n",
       "        vertical-align: middle;\n",
       "    }\n",
       "\n",
       "    .dataframe tbody tr th {\n",
       "        vertical-align: top;\n",
       "    }\n",
       "\n",
       "    .dataframe thead th {\n",
       "        text-align: right;\n",
       "    }\n",
       "</style>\n",
       "<table border=\"1\" class=\"dataframe\">\n",
       "  <thead>\n",
       "    <tr style=\"text-align: right;\">\n",
       "      <th></th>\n",
       "      <th>satisfaction_level</th>\n",
       "      <th>last_evaluation</th>\n",
       "      <th>number_project</th>\n",
       "      <th>time_spend_company</th>\n",
       "      <th>left</th>\n",
       "      <th>salary</th>\n",
       "      <th>abnormal_proj</th>\n",
       "      <th>years_at_company</th>\n",
       "      <th>abnormal_eval</th>\n",
       "    </tr>\n",
       "  </thead>\n",
       "  <tbody>\n",
       "    <tr>\n",
       "      <th>0</th>\n",
       "      <td>0.38</td>\n",
       "      <td>0.53</td>\n",
       "      <td>2</td>\n",
       "      <td>3</td>\n",
       "      <td>1</td>\n",
       "      <td>low</td>\n",
       "      <td>1</td>\n",
       "      <td>3</td>\n",
       "      <td>1</td>\n",
       "    </tr>\n",
       "    <tr>\n",
       "      <th>1</th>\n",
       "      <td>0.80</td>\n",
       "      <td>0.86</td>\n",
       "      <td>5</td>\n",
       "      <td>6</td>\n",
       "      <td>1</td>\n",
       "      <td>medium</td>\n",
       "      <td>0</td>\n",
       "      <td>6</td>\n",
       "      <td>2</td>\n",
       "    </tr>\n",
       "    <tr>\n",
       "      <th>2</th>\n",
       "      <td>0.11</td>\n",
       "      <td>0.88</td>\n",
       "      <td>7</td>\n",
       "      <td>4</td>\n",
       "      <td>1</td>\n",
       "      <td>medium</td>\n",
       "      <td>2</td>\n",
       "      <td>4</td>\n",
       "      <td>2</td>\n",
       "    </tr>\n",
       "    <tr>\n",
       "      <th>3</th>\n",
       "      <td>0.72</td>\n",
       "      <td>0.87</td>\n",
       "      <td>5</td>\n",
       "      <td>5</td>\n",
       "      <td>1</td>\n",
       "      <td>low</td>\n",
       "      <td>0</td>\n",
       "      <td>5</td>\n",
       "      <td>2</td>\n",
       "    </tr>\n",
       "    <tr>\n",
       "      <th>4</th>\n",
       "      <td>0.37</td>\n",
       "      <td>0.52</td>\n",
       "      <td>2</td>\n",
       "      <td>3</td>\n",
       "      <td>1</td>\n",
       "      <td>low</td>\n",
       "      <td>1</td>\n",
       "      <td>3</td>\n",
       "      <td>1</td>\n",
       "    </tr>\n",
       "  </tbody>\n",
       "</table>\n",
       "</div>"
      ],
      "text/plain": [
       "   satisfaction_level  last_evaluation  number_project  time_spend_company  \\\n",
       "0                0.38             0.53               2                   3   \n",
       "1                0.80             0.86               5                   6   \n",
       "2                0.11             0.88               7                   4   \n",
       "3                0.72             0.87               5                   5   \n",
       "4                0.37             0.52               2                   3   \n",
       "\n",
       "   left  salary abnormal_proj years_at_company abnormal_eval  \n",
       "0     1     low             1                3             1  \n",
       "1     1  medium             0                6             2  \n",
       "2     1  medium             2                4             2  \n",
       "3     1     low             0                5             2  \n",
       "4     1     low             1                3             1  "
      ]
     },
     "execution_count": 68,
     "metadata": {},
     "output_type": "execute_result"
    }
   ],
   "source": [
    "#banding number of projects\n",
    "bins=[0,2,5,10]\n",
    "names=[1,0,2]\n",
    "df['abnormal_proj']=pd.cut(df['number_project'],bins,labels=names)\n",
    "#banding years at the firm\n",
    "bins2=[0,1,2,3,4,5,6,100]\n",
    "names2=['1','2','3','4','5','6','7']\n",
    "df['years_at_company']=pd.cut(df['time_spend_company'],bins2,labels=names2)\n",
    "#banding last_evaluation\n",
    "bins3=[0,.6,.8,1]\n",
    "names3=[1,0,2]\n",
    "df['abnormal_eval']=pd.cut(df['last_evaluation'],bins3,labels=names3)\n",
    "df.head()"
   ]
  },
  {
   "cell_type": "code",
   "execution_count": 69,
   "metadata": {
    "_cell_guid": "69ac2744-a872-4142-994e-5093f503a56a",
    "_uuid": "d88427bb592854d664f69f0e84a0fe5450c9e42a"
   },
   "outputs": [
    {
     "data": {
      "text/html": [
       "<div>\n",
       "<style scoped>\n",
       "    .dataframe tbody tr th:only-of-type {\n",
       "        vertical-align: middle;\n",
       "    }\n",
       "\n",
       "    .dataframe tbody tr th {\n",
       "        vertical-align: top;\n",
       "    }\n",
       "\n",
       "    .dataframe thead th {\n",
       "        text-align: right;\n",
       "    }\n",
       "</style>\n",
       "<table border=\"1\" class=\"dataframe\">\n",
       "  <thead>\n",
       "    <tr style=\"text-align: right;\">\n",
       "      <th></th>\n",
       "      <th>satisfaction_level</th>\n",
       "      <th>left</th>\n",
       "      <th>salary</th>\n",
       "      <th>abnormal_proj</th>\n",
       "      <th>years_at_company</th>\n",
       "      <th>abnormal_eval</th>\n",
       "    </tr>\n",
       "  </thead>\n",
       "  <tbody>\n",
       "    <tr>\n",
       "      <th>0</th>\n",
       "      <td>0.38</td>\n",
       "      <td>1</td>\n",
       "      <td>low</td>\n",
       "      <td>1</td>\n",
       "      <td>3</td>\n",
       "      <td>1</td>\n",
       "    </tr>\n",
       "    <tr>\n",
       "      <th>1</th>\n",
       "      <td>0.80</td>\n",
       "      <td>1</td>\n",
       "      <td>medium</td>\n",
       "      <td>0</td>\n",
       "      <td>6</td>\n",
       "      <td>2</td>\n",
       "    </tr>\n",
       "    <tr>\n",
       "      <th>2</th>\n",
       "      <td>0.11</td>\n",
       "      <td>1</td>\n",
       "      <td>medium</td>\n",
       "      <td>2</td>\n",
       "      <td>4</td>\n",
       "      <td>2</td>\n",
       "    </tr>\n",
       "    <tr>\n",
       "      <th>3</th>\n",
       "      <td>0.72</td>\n",
       "      <td>1</td>\n",
       "      <td>low</td>\n",
       "      <td>0</td>\n",
       "      <td>5</td>\n",
       "      <td>2</td>\n",
       "    </tr>\n",
       "    <tr>\n",
       "      <th>4</th>\n",
       "      <td>0.37</td>\n",
       "      <td>1</td>\n",
       "      <td>low</td>\n",
       "      <td>1</td>\n",
       "      <td>3</td>\n",
       "      <td>1</td>\n",
       "    </tr>\n",
       "  </tbody>\n",
       "</table>\n",
       "</div>"
      ],
      "text/plain": [
       "   satisfaction_level  left  salary abnormal_proj years_at_company  \\\n",
       "0                0.38     1     low             1                3   \n",
       "1                0.80     1  medium             0                6   \n",
       "2                0.11     1  medium             2                4   \n",
       "3                0.72     1     low             0                5   \n",
       "4                0.37     1     low             1                3   \n",
       "\n",
       "  abnormal_eval  \n",
       "0             1  \n",
       "1             2  \n",
       "2             2  \n",
       "3             2  \n",
       "4             1  "
      ]
     },
     "execution_count": 69,
     "metadata": {},
     "output_type": "execute_result"
    }
   ],
   "source": [
    "#cleaning up intermediary/unused columns\n",
    "df=df.drop(['number_project','time_spend_company','last_evaluation'],axis=1)\n",
    "df.head()"
   ]
  },
  {
   "cell_type": "code",
   "execution_count": 70,
   "metadata": {
    "_cell_guid": "16ba7889-dcbc-442e-87f9-60357824948a",
    "_uuid": "aebdfb2db4a7b60e362bed374c4b55a2e16de70d"
   },
   "outputs": [
    {
     "data": {
      "text/html": [
       "<div>\n",
       "<style scoped>\n",
       "    .dataframe tbody tr th:only-of-type {\n",
       "        vertical-align: middle;\n",
       "    }\n",
       "\n",
       "    .dataframe tbody tr th {\n",
       "        vertical-align: top;\n",
       "    }\n",
       "\n",
       "    .dataframe thead th {\n",
       "        text-align: right;\n",
       "    }\n",
       "</style>\n",
       "<table border=\"1\" class=\"dataframe\">\n",
       "  <thead>\n",
       "    <tr style=\"text-align: right;\">\n",
       "      <th></th>\n",
       "      <th>satisfaction_level</th>\n",
       "      <th>left</th>\n",
       "      <th>salary</th>\n",
       "      <th>abnormal_proj</th>\n",
       "      <th>years_at_company</th>\n",
       "      <th>abnormal_eval</th>\n",
       "    </tr>\n",
       "  </thead>\n",
       "  <tbody>\n",
       "    <tr>\n",
       "      <th>0</th>\n",
       "      <td>0.38</td>\n",
       "      <td>1</td>\n",
       "      <td>0</td>\n",
       "      <td>1</td>\n",
       "      <td>3</td>\n",
       "      <td>1</td>\n",
       "    </tr>\n",
       "    <tr>\n",
       "      <th>1</th>\n",
       "      <td>0.80</td>\n",
       "      <td>1</td>\n",
       "      <td>1</td>\n",
       "      <td>0</td>\n",
       "      <td>6</td>\n",
       "      <td>2</td>\n",
       "    </tr>\n",
       "    <tr>\n",
       "      <th>2</th>\n",
       "      <td>0.11</td>\n",
       "      <td>1</td>\n",
       "      <td>1</td>\n",
       "      <td>2</td>\n",
       "      <td>4</td>\n",
       "      <td>2</td>\n",
       "    </tr>\n",
       "    <tr>\n",
       "      <th>3</th>\n",
       "      <td>0.72</td>\n",
       "      <td>1</td>\n",
       "      <td>0</td>\n",
       "      <td>0</td>\n",
       "      <td>5</td>\n",
       "      <td>2</td>\n",
       "    </tr>\n",
       "    <tr>\n",
       "      <th>4</th>\n",
       "      <td>0.37</td>\n",
       "      <td>1</td>\n",
       "      <td>0</td>\n",
       "      <td>1</td>\n",
       "      <td>3</td>\n",
       "      <td>1</td>\n",
       "    </tr>\n",
       "  </tbody>\n",
       "</table>\n",
       "</div>"
      ],
      "text/plain": [
       "   satisfaction_level  left  salary abnormal_proj years_at_company  \\\n",
       "0                0.38     1       0             1                3   \n",
       "1                0.80     1       1             0                6   \n",
       "2                0.11     1       1             2                4   \n",
       "3                0.72     1       0             0                5   \n",
       "4                0.37     1       0             1                3   \n",
       "\n",
       "  abnormal_eval  \n",
       "0             1  \n",
       "1             2  \n",
       "2             2  \n",
       "3             2  \n",
       "4             1  "
      ]
     },
     "execution_count": 70,
     "metadata": {},
     "output_type": "execute_result"
    }
   ],
   "source": [
    "#turning all columns into numeric so that modeling algorithms can run\n",
    "df['salary']=df['salary'].map({'low':0,'medium':1,'high':2}).astype(int)\n",
    "pd.to_numeric(df['abnormal_proj'], errors='coerce')\n",
    "pd.to_numeric(df['years_at_company'], errors='coerce')\n",
    "pd.to_numeric(df['abnormal_eval'], errors='coerce')\n",
    "df.head()"
   ]
  },
  {
   "cell_type": "markdown",
   "metadata": {
    "_cell_guid": "66c70924-4e86-4971-a707-5c8ff3addc3c",
    "_uuid": "a6b8b24d42612867d204700dcbe9f9f30b959893"
   },
   "source": [
    "**Modeling**\n",
    "\n",
    "We've finally reached the stage of training a model and using the model to make predictions. \n",
    "\n",
    "Our first step is to split our dataset into a training set and test set. We use an 80-20 split, as is standard. "
   ]
  },
  {
   "cell_type": "code",
   "execution_count": 71,
   "metadata": {
    "_cell_guid": "58bc9b45-ff2f-4981-b846-e50441328028",
    "_uuid": "6202919c1be5cececd67567ed8f7c6d253f17eda"
   },
   "outputs": [
    {
     "name": "stdout",
     "output_type": "stream",
     "text": [
      "(11999, 5) (11999,)\n",
      "(3000, 5) (3000,)\n"
     ]
    }
   ],
   "source": [
    "#Modeling\n",
    "from sklearn.model_selection import train_test_split\n",
    "X_train, X_test, Y_train, Y_test = train_test_split(df,df['left'],test_size=.2)\n",
    "X_train=X_train.drop('left',axis=1)\n",
    "X_test=X_test.drop('left',axis=1)\n",
    "print (X_train.shape, Y_train.shape)\n",
    "print (X_test.shape, Y_test.shape)"
   ]
  },
  {
   "cell_type": "markdown",
   "metadata": {
    "_cell_guid": "7b1ad7f6-f66e-4ca5-aedf-eac3d76d3b19",
    "_uuid": "dc5907a444b7e152b4c74bbbda2b8199a1a624e2"
   },
   "source": [
    "We now must decide on the modelling algorithms that we want to apply. The goal of our model is to use a set of employee characteristics to label him/her as \"left the firm\" or \"stayed\". Essentially, we are looking for supervised learning algorithms that perform \"classification\" and \"regression\". The following are a few algorithms that meet these criteria:\n",
    "\n",
    "* Logistic Regression\n",
    "* KNN or k-Nearest Neighbors\n",
    "* Support Vector Machines\n",
    "* Naive Bayes classifier\n",
    "* Decision Tree\n",
    "\n",
    "I ultimately selected these techniques because they are relatively simple to understand."
   ]
  },
  {
   "cell_type": "markdown",
   "metadata": {
    "_cell_guid": "4a674b6a-6e0a-4cc5-a95d-ede77fc0131a",
    "_uuid": "557c64e0803ffb87b8ce77d54dd2cc9181a748ce"
   },
   "source": [
    "Logistic regression is a type of regression for which the dependent variable is categorical, in this case binary. A binary logistic model predicts the likelihood of the dependent variable being one case or another (whether the employee leaves the firm or not) using the independent variables. "
   ]
  },
  {
   "cell_type": "markdown",
   "metadata": {
    "_cell_guid": "f078a643-8164-4020-a37f-db22bad40575",
    "_uuid": "b8f722bb618a55eaf11e8cea26cddaeffdf3565a"
   },
   "source": [
    "The coefficients represent the level of impact each feature has on the probability of an employee leaving. For each one-unit increase in a given feature, the log-odds are scaled by that feature's coefficient.\n",
    "\n",
    "Taking a look at the coefficients table, we see that working on an excessive number of projects (both too few or too many) and having a stellar/poor evaluation are correlated strongest with quitting the firm. Similarly, higher satisfaction and salary tend to significantly decrease the probability of leaving the firm. "
   ]
  },
  {
   "cell_type": "code",
   "execution_count": 72,
   "metadata": {
    "_cell_guid": "a271e884-485e-47f0-ba50-a525e44f125d",
    "_uuid": "2503a4438214fb1594ca186aab06c0faf6828beb"
   },
   "outputs": [
    {
     "data": {
      "text/html": [
       "<div>\n",
       "<style scoped>\n",
       "    .dataframe tbody tr th:only-of-type {\n",
       "        vertical-align: middle;\n",
       "    }\n",
       "\n",
       "    .dataframe tbody tr th {\n",
       "        vertical-align: top;\n",
       "    }\n",
       "\n",
       "    .dataframe thead th {\n",
       "        text-align: right;\n",
       "    }\n",
       "</style>\n",
       "<table border=\"1\" class=\"dataframe\">\n",
       "  <thead>\n",
       "    <tr style=\"text-align: right;\">\n",
       "      <th></th>\n",
       "      <th>Feature</th>\n",
       "      <th>Coefficient</th>\n",
       "    </tr>\n",
       "  </thead>\n",
       "  <tbody>\n",
       "    <tr>\n",
       "      <th>2</th>\n",
       "      <td>abnormal_proj</td>\n",
       "      <td>1.534804</td>\n",
       "    </tr>\n",
       "    <tr>\n",
       "      <th>4</th>\n",
       "      <td>abnormal_eval</td>\n",
       "      <td>0.935138</td>\n",
       "    </tr>\n",
       "    <tr>\n",
       "      <th>3</th>\n",
       "      <td>years_at_company</td>\n",
       "      <td>0.305424</td>\n",
       "    </tr>\n",
       "    <tr>\n",
       "      <th>1</th>\n",
       "      <td>salary</td>\n",
       "      <td>-0.723440</td>\n",
       "    </tr>\n",
       "    <tr>\n",
       "      <th>0</th>\n",
       "      <td>satisfaction_level</td>\n",
       "      <td>-1.919769</td>\n",
       "    </tr>\n",
       "  </tbody>\n",
       "</table>\n",
       "</div>"
      ],
      "text/plain": [
       "              Feature  Coefficient\n",
       "2       abnormal_proj     1.534804\n",
       "4       abnormal_eval     0.935138\n",
       "3    years_at_company     0.305424\n",
       "1              salary    -0.723440\n",
       "0  satisfaction_level    -1.919769"
      ]
     },
     "execution_count": 72,
     "metadata": {},
     "output_type": "execute_result"
    }
   ],
   "source": [
    "coeff_df = pd.DataFrame(X_train.columns)\n",
    "coeff_df.columns = ['Feature']\n",
    "coeff_df[\"Coefficient\"] = pd.Series(logreg.coef_[0])\n",
    "\n",
    "coeff_df.sort_values(by='Coefficient', ascending=False)"
   ]
  },
  {
   "cell_type": "code",
   "execution_count": 73,
   "metadata": {
    "_cell_guid": "1944ae04-1902-4a3d-a75b-d4b77bffb8a5",
    "_uuid": "9824581f1aa21fe9bbcf5d6274c84cbf95b687be",
    "scrolled": true
   },
   "outputs": [
    {
     "data": {
      "text/plain": [
       "79.93"
      ]
     },
     "execution_count": 73,
     "metadata": {},
     "output_type": "execute_result"
    }
   ],
   "source": [
    "#Log reg\n",
    "logreg = LogisticRegression()\n",
    "logreg.fit(X_train, Y_train)\n",
    "\n",
    "# Convert X_test to a numeric data type if it's not already\n",
    "X_test_numeric = X_test.apply(pd.to_numeric, errors='coerce')\n",
    "\n",
    "# Check if conversion was successful\n",
    "if X_test_numeric.isnull().values.any():\n",
    "    # Handle missing values if any\n",
    "    # You might want to impute missing values or drop columns/rows with missing values\n",
    "    pass\n",
    "\n",
    "# Predict using the logistic regression model with the converted numeric data\n",
    "Y_pred = logreg.predict(X_test_numeric)\n",
    "acc_log = round(logreg.score(X_test_numeric, Y_test) * 100, 2)\n",
    "acc_log"
   ]
  },
  {
   "cell_type": "markdown",
   "metadata": {
    "_cell_guid": "3e5e3040-c3f5-49cd-9d7f-4532fd75f1e1",
    "_uuid": "5f0b03e794bc806f75d46b3a13275a3be43973a0"
   },
   "source": [
    "The k-Nearest Neighbors algorithm is very simple: a given employee is predicted to quit or stay based on whether the majority of the kth most similar employees have quit or stayed. The KNN algorithm scores higher than the logistic regression method. "
   ]
  },
  {
   "cell_type": "code",
   "execution_count": 74,
   "metadata": {
    "_cell_guid": "f423badb-bfbc-41f1-bd25-3a61df1acb0a",
    "_uuid": "52bfc8c911701c03c60b37e1015e8e995a9c1d75"
   },
   "outputs": [
    {
     "data": {
      "text/plain": [
       "97.92"
      ]
     },
     "execution_count": 74,
     "metadata": {},
     "output_type": "execute_result"
    }
   ],
   "source": [
    "#KNN\n",
    "knn = KNeighborsClassifier(n_neighbors=3)\n",
    "knn.fit(X_train, Y_train)\n",
    "Y_pred = knn.predict(X_test)\n",
    "acc_knn = round(knn.score(X_train, Y_train) * 100, 2)\n",
    "acc_knn"
   ]
  },
  {
   "cell_type": "markdown",
   "metadata": {
    "_cell_guid": "bf1b4110-482b-4400-a2e7-c835666e0d37",
    "_uuid": "82f12d1ece8fb6ebc4776c686741b34aa686e271"
   },
   "source": [
    "Support vector classification is a technique that involves constructing hyperplanes to separate data points into classes.\n",
    "These hyperplanes are constructed such that the distance between the hyperplane and the nearest point of each class is maximized. The SVC algorithm scores lower than the KNN classifier. "
   ]
  },
  {
   "cell_type": "code",
   "execution_count": 75,
   "metadata": {
    "_cell_guid": "7e3460a1-17b3-4cf8-b7ab-32099621d1ff",
    "_uuid": "6e242e6d9f93ee47880b046993fe4a7274ed7fe4"
   },
   "outputs": [
    {
     "data": {
      "text/plain": [
       "94.68"
      ]
     },
     "execution_count": 75,
     "metadata": {},
     "output_type": "execute_result"
    }
   ],
   "source": [
    "#SVM\n",
    "svc = SVC()\n",
    "svc.fit(X_train, Y_train)\n",
    "Y_pred = svc.predict(X_test)\n",
    "acc_svc = round(svc.score(X_train, Y_train) * 100, 2)\n",
    "acc_svc"
   ]
  },
  {
   "cell_type": "markdown",
   "metadata": {
    "_cell_guid": "ef682b99-87a3-40d3-a597-ae2da2b7b437",
    "_uuid": "e159ca285cfb54040297fc503ed59231e252fad1"
   },
   "source": [
    "The naive Bayes algorithm classifies points by using the Bayes' theorem and calculating the posteriors for each class given a vector of features. In other words, it uses probability distributions to determine whether an employee with a certain set of features is more likely to leave or stay; it then assigns the employee to the more likely class. The naive Bayes classifier scores lower than the KNN algorithm."
   ]
  },
  {
   "cell_type": "code",
   "execution_count": 76,
   "metadata": {
    "_cell_guid": "2815eb64-2576-4349-9e4f-8c962fae056f",
    "_kg_hide-output": true,
    "_uuid": "79d72dd4063360d8f154b7b17890ab95bd118401"
   },
   "outputs": [
    {
     "name": "stdout",
     "output_type": "stream",
     "text": [
      "Accuracy of Gaussian Naive Bayes model: 86.13\n"
     ]
    }
   ],
   "source": [
    "# Assuming X_train and X_test are DataFrames\n",
    "# Convert string columns to numeric for X_train and X_test\n",
    "X_train_numeric = X_train.apply(pd.to_numeric, errors='coerce')\n",
    "X_test_numeric = X_test.apply(pd.to_numeric, errors='coerce')\n",
    "\n",
    "# Check if conversion was successful for X_train\n",
    "if X_train_numeric.isnull().values.any():\n",
    "    # Handle missing values if any\n",
    "    # You might want to impute missing values or drop columns/rows with missing values\n",
    "    pass\n",
    "\n",
    "# Check if conversion was successful for X_test\n",
    "if X_test_numeric.isnull().values.any():\n",
    "    # Handle missing values if any\n",
    "    # You might want to impute missing values or drop columns/rows with missing values\n",
    "    pass\n",
    "\n",
    "# Instantiate Gaussian Naive Bayes model\n",
    "gaussian = GaussianNB()\n",
    "\n",
    "# Fit the GaussianNB model with the converted numeric training data\n",
    "gaussian.fit(X_train_numeric, Y_train)\n",
    "\n",
    "# Predict using the GaussianNB model with the converted numeric test data\n",
    "Y_pred = gaussian.predict(X_test_numeric)\n",
    "\n",
    "# Calculate the accuracy of the model on the test data\n",
    "acc_gaussian = round(gaussian.score(X_test_numeric, Y_test) * 100, 2)\n",
    "\n",
    "# Print the accuracy\n",
    "print(\"Accuracy of Gaussian Naive Bayes model:\", acc_gaussian)\n"
   ]
  },
  {
   "cell_type": "markdown",
   "metadata": {
    "_cell_guid": "ef3450e6-b0f6-4b32-87ac-9011b6685d27",
    "_uuid": "c32c2d0842f86ae0ce02f772a82e5fa83f2ae2cf"
   },
   "source": [
    "The decision tree algorithm classifies points by iteratively partioning the dataset into branches based on features. For classification trees, the ending nodes are called \"leaves\", in which points are assigned a label. For each level of the tree, the algorithm splits the data using the feature that provides the most optimal split. The decision tree algorithm scores the highest among the five that we used. "
   ]
  },
  {
   "cell_type": "code",
   "execution_count": 77,
   "metadata": {
    "_cell_guid": "377ca67f-0590-4b6d-9058-c5ea692ed61e",
    "_uuid": "e4476f8c92928ae8fdcd1ce35026295c943b92e7"
   },
   "outputs": [
    {
     "name": "stdout",
     "output_type": "stream",
     "text": [
      "Accuracy of Decision Tree model: 98.56\n"
     ]
    }
   ],
   "source": [
    "#Decision Tree\n",
    "decision_tree = DecisionTreeClassifier()\n",
    "decision_tree.fit(X_train, Y_train)\n",
    "Y_pred = decision_tree.predict(X_test)\n",
    "acc_decision_tree = round(decision_tree.score(X_train, Y_train) * 100, 2)\n",
    "# Print the accuracy\n",
    "print(\"Accuracy of Decision Tree model:\", acc_decision_tree)"
   ]
  },
  {
   "cell_type": "markdown",
   "metadata": {},
   "source": [
    "We print out the decision tree below to see which features were selected to partition the dataset at each level of the tree. Feature X[2] (which corresponds to abnormal_proj) is chosen as the \"best\" separator, followed by X[3] and X[0], which refer to the satisfaction level and years worked at the company, respectively. I only print out the first 4 levels due to the tree's enormous size.\n",
    "\n",
    "Note that this result mostly aligns with the coefficients output of our logistic regression algorithm, which also listed the abnormal_proj and satisfaction_level features as good predictors of employee turnover. On the other hand, despite being a good separator in the decision tree algorithm, the years worked feature had a low logistic regression coefficient (in absolute terms). We must note, however, the dangers of comparing these outputs like so. The logistic regression coefficients denote how significantly the odds of an employee leaving will change from a one-unit change in the features; since the years worked feature is inherently larger in value than the other features (which are either binary or from 0 to 1), the coefficients are less telling of a feature's predictive power than we might otherwise assume."
   ]
  },
  {
   "cell_type": "code",
   "execution_count": 78,
   "metadata": {},
   "outputs": [],
   "source": [
    "#modelling raandom forest\n",
    "from sklearn.ensemble import RandomForestClassifier\n",
    "from sklearn.metrics import accuracy_score, confusion_matrix, precision_score, recall_score, ConfusionMatrixDisplay\n",
    "from sklearn.model_selection import RandomizedSearchCV, train_test_split\n",
    "from scipy.stats import randint"
   ]
  },
  {
   "cell_type": "code",
   "execution_count": 79,
   "metadata": {},
   "outputs": [],
   "source": [
    "from sklearn.ensemble import RandomForestClassifier"
   ]
  },
  {
   "cell_type": "code",
   "execution_count": 80,
   "metadata": {},
   "outputs": [
    {
     "name": "stdout",
     "output_type": "stream",
     "text": [
      "Accuracy of Random Forest model: 98.56\n"
     ]
    }
   ],
   "source": [
    "random_forest = RandomForestClassifier()\n",
    "random_forest.fit(X_train, Y_train)\n",
    "Y_pred = random_forest.predict(X_test)\n",
    "acc_random_forest = round(random_forest.score(X_train, Y_train) * 100, 2)\n",
    "print(\"Accuracy of Random Forest model:\", acc_random_forest)"
   ]
  },
  {
   "cell_type": "code",
   "execution_count": 89,
   "metadata": {},
   "outputs": [
    {
     "name": "stderr",
     "output_type": "stream",
     "text": [
      "C:\\Users\\CHINMAYA\\.conda\\envs\\my_env\\lib\\site-packages\\sklearn\\ensemble\\_weight_boosting.py:519: FutureWarning: The SAMME.R algorithm (the default) is deprecated and will be removed in 1.6. Use the SAMME algorithm to circumvent this warning.\n",
      "  \n"
     ]
    },
    {
     "name": "stdout",
     "output_type": "stream",
     "text": [
      "Accuracy of AdaBoost model: 93.92\n"
     ]
    }
   ],
   "source": [
    "from sklearn.ensemble import AdaBoostClassifier\n",
    "ada_boost = AdaBoostClassifier()\n",
    "ada_boost.fit(X_train, Y_train)\n",
    "Y_pred = ada_boost.predict(X_test)\n",
    "acc_ada_boost = round(ada_boost.score(X_train, Y_train) * 100, 2)\n",
    "print(\"Accuracy of AdaBoost model:\", acc_ada_boost)"
   ]
  },
  {
   "cell_type": "code",
   "execution_count": null,
   "metadata": {},
   "outputs": [],
   "source": []
  },
  {
   "cell_type": "markdown",
   "metadata": {
    "_cell_guid": "9580624c-dc29-4d63-a035-e5f5ded72851",
    "_uuid": "ba78890c324c6bce327971d8394d874038f8aefe"
   },
   "source": [
    "**Model Evaluation**\n",
    "\n",
    "We now summarize the models we used and rank them based on their accuracy. The decision trees algorithm scored the highest, predicting 98% of the test set's employees' decisions to leave."
   ]
  },
  {
   "cell_type": "code",
   "execution_count": 46,
   "metadata": {
    "_cell_guid": "69f2c995-6a3f-4de1-a03b-28916b80532a",
    "_uuid": "0968c572be9048d26c296b1f2e6c5f422511497b"
   },
   "outputs": [
    {
     "data": {
      "text/html": [
       "<div>\n",
       "<style scoped>\n",
       "    .dataframe tbody tr th:only-of-type {\n",
       "        vertical-align: middle;\n",
       "    }\n",
       "\n",
       "    .dataframe tbody tr th {\n",
       "        vertical-align: top;\n",
       "    }\n",
       "\n",
       "    .dataframe thead th {\n",
       "        text-align: right;\n",
       "    }\n",
       "</style>\n",
       "<table border=\"1\" class=\"dataframe\">\n",
       "  <thead>\n",
       "    <tr style=\"text-align: right;\">\n",
       "      <th></th>\n",
       "      <th>Model</th>\n",
       "      <th>Score</th>\n",
       "    </tr>\n",
       "  </thead>\n",
       "  <tbody>\n",
       "    <tr>\n",
       "      <th>4</th>\n",
       "      <td>Decision Tree</td>\n",
       "      <td>98.58</td>\n",
       "    </tr>\n",
       "    <tr>\n",
       "      <th>5</th>\n",
       "      <td>Random Forest</td>\n",
       "      <td>98.57</td>\n",
       "    </tr>\n",
       "    <tr>\n",
       "      <th>1</th>\n",
       "      <td>KNN</td>\n",
       "      <td>97.96</td>\n",
       "    </tr>\n",
       "    <tr>\n",
       "      <th>0</th>\n",
       "      <td>Support Vector Machines</td>\n",
       "      <td>94.65</td>\n",
       "    </tr>\n",
       "    <tr>\n",
       "      <th>3</th>\n",
       "      <td>Naive Bayes</td>\n",
       "      <td>84.70</td>\n",
       "    </tr>\n",
       "    <tr>\n",
       "      <th>2</th>\n",
       "      <td>Logistic Regression</td>\n",
       "      <td>78.90</td>\n",
       "    </tr>\n",
       "  </tbody>\n",
       "</table>\n",
       "</div>"
      ],
      "text/plain": [
       "                     Model  Score\n",
       "4            Decision Tree  98.58\n",
       "5            Random Forest  98.57\n",
       "1                      KNN  97.96\n",
       "0  Support Vector Machines  94.65\n",
       "3              Naive Bayes  84.70\n",
       "2      Logistic Regression  78.90"
      ]
     },
     "execution_count": 46,
     "metadata": {},
     "output_type": "execute_result"
    }
   ],
   "source": [
    "models = pd.DataFrame({\n",
    "    'Model': ['Support Vector Machines', 'KNN', 'Logistic Regression', \n",
    "              'Naive Bayes', 'Decision Tree',\"Random Forest\"],\n",
    "    'Score': [acc_svc, acc_knn, acc_log, \n",
    "              acc_gaussian,acc_decision_tree,acc_random_forest]})\n",
    "models.sort_values(by='Score', ascending=False)"
   ]
  },
  {
   "cell_type": "code",
   "execution_count": null,
   "metadata": {},
   "outputs": [],
   "source": []
  }
 ],
 "metadata": {
  "kernelspec": {
   "display_name": "Python 3 (ipykernel)",
   "language": "python",
   "name": "python3"
  },
  "language_info": {
   "codemirror_mode": {
    "name": "ipython",
    "version": 3
   },
   "file_extension": ".py",
   "mimetype": "text/x-python",
   "name": "python",
   "nbconvert_exporter": "python",
   "pygments_lexer": "ipython3",
   "version": "3.9.18"
  }
 },
 "nbformat": 4,
 "nbformat_minor": 4
}
